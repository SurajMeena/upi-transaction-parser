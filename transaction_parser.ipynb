{
  "cells": [
    {
      "cell_type": "code",
      "execution_count": null,
      "metadata": {
        "colab": {
          "base_uri": "https://localhost:8080/"
        },
        "id": "lHRW1A7gE05J",
        "outputId": "e96a84e3-6e4c-4dbe-e256-0fe6e92a2a13"
      },
      "outputs": [],
      "source": [
        "# !pip install razorpay"
      ]
    },
    {
      "cell_type": "code",
      "execution_count": null,
      "metadata": {
        "id": "j2WAYbn61_uv"
      },
      "outputs": [],
      "source": [
        "import pandas as pd\n",
        "import requests\n",
        "from requests.auth import HTTPBasicAuth\n",
        "# import razorpay"
      ]
    },
    {
      "cell_type": "code",
      "execution_count": null,
      "metadata": {
        "id": "nvvTtfDx2B_A"
      },
      "outputs": [],
      "source": [
        "df = pd.read_csv(\"ICICI Debit.csv\", delimiter=\",\")"
      ]
    },
    {
      "cell_type": "code",
      "execution_count": null,
      "metadata": {
        "colab": {
          "base_uri": "https://localhost:8080/",
          "height": 424
        },
        "id": "dxOF94J8ySz-",
        "outputId": "677f7c50-49be-4130-f621-e95b2568f99f"
      },
      "outputs": [],
      "source": [
        "df"
      ]
    },
    {
      "cell_type": "code",
      "execution_count": null,
      "metadata": {
        "id": "5quuLg3I4ze8"
      },
      "outputs": [],
      "source": [
        "# Utility functions\n",
        "def findNotes(row):\n",
        "  if(row.split('/')[0] == \"UPI\"):\n",
        "    return row.split('/')[2]\n",
        "  return \"\";\n",
        "def findPayee(row):\n",
        "  print(row)\n",
        "  if row.split('/')[0] == \"UPI\":\n",
        "    return row.split('/')[3]\n",
        "  return row;\n",
        "def findChequeNumber(row):\n",
        "  if row.split('/')[0] == \"UPI\":\n",
        "    return row.split('/')[1]\n",
        "  return \"\";\n",
        "\n",
        "def findPayeeName(row):\n",
        "  if row.split('/')[0] == \"UPI\":\n",
        "    upi_id = row.split('/')[3]\n",
        "    resp = requests.get(\"http://localhost:3000/api/validateVPA/\" + upi_id)\n",
        "    resp_json = resp.json() if resp.status_code == 200 else {}\n",
        "    if resp_json == {} or resp_json[\"details\"][\"isVPAValid\"]:\n",
        "      return upi_id\n",
        "    details = resp_json[\"details\"]\n",
        "    if details[\"isVPAValid\"]:\n",
        "      # cleaning redundant spaces\n",
        "      return \" \".join(details[\"payerAccountName\"].strip().split())\n",
        "  return row"
      ]
    },
    {
      "cell_type": "code",
      "execution_count": null,
      "metadata": {
        "colab": {
          "base_uri": "https://localhost:8080/",
          "height": 667
        },
        "id": "UD0YC_wc3RiA",
        "outputId": "38eab7bb-b591-4246-c4ab-c4491ab73f1b"
      },
      "outputs": [],
      "source": [
        "df['Payee'] = df['Transaction Remarks'].apply(findPayeeName)\n",
        "df['Cheque Number'] = df['Transaction Remarks'].apply(findChequeNumber)\n",
        "df['Transaction Remarks'] = df['Transaction Remarks'].apply(findNotes)"
      ]
    },
    {
      "cell_type": "code",
      "execution_count": null,
      "metadata": {
        "id": "CEnSzLL75DhT"
      },
      "outputs": [],
      "source": [
        "df.to_csv(\"processedSavingsICICI.csv\", index=False)"
      ]
    },
    {
      "cell_type": "code",
      "execution_count": null,
      "metadata": {
        "id": "e7jT6LVu_DOd"
      },
      "outputs": [],
      "source": [
        "# TODO: Do it via environment variables\n",
        "# keys = pd.read_csv(\"razorPay API Key.csv\")\n",
        "# key_id = keys['key_id'][0]\n",
        "# key_secret = keys['key_secret'][0]"
      ]
    },
    {
      "cell_type": "code",
      "execution_count": null,
      "metadata": {
        "id": "WMDw4izQE5JS"
      },
      "outputs": [],
      "source": [
        "# client = razorpay.Client(auth=(\"\", \"\"))\n",
        "# client.set_app_details({\"title\" : \"Python\", \"version\" : \"3.9\"})"
      ]
    },
    {
      "cell_type": "code",
      "execution_count": null,
      "metadata": {
        "id": "53hM4fqZFOCR"
      },
      "outputs": [],
      "source": [
        "# client.payment.validateVpa({\n",
        "#   \"vpa\": \"gauravkumar@exampleupi\"\n",
        "# })"
      ]
    },
    {
      "cell_type": "code",
      "execution_count": null,
      "metadata": {
        "id": "NbCbMnfY_h5L"
      },
      "outputs": [],
      "source": [
        "# r = requests.post('https://api.razorpay.com/v1/validate/vpa', data={\"vpa\": \"gauravkumar@exampleupi\"}, auth=HTTPBasicAuth(key_id, key_secret))\n",
        "# print(r.status_code)"
      ]
    },
    {
      "cell_type": "code",
      "execution_count": null,
      "metadata": {
        "id": "7vAZMzMZHnes"
      },
      "outputs": [],
      "source": [
        "# !sudo update-alternatives --install /usr/bin/python3 python3 /usr/bin/python3.6 1"
      ]
    },
    {
      "cell_type": "code",
      "execution_count": null,
      "metadata": {
        "id": "AeiBTEnlHvCc"
      },
      "outputs": [],
      "source": [
        "# !sudo update-alternatives --config python3"
      ]
    },
    {
      "cell_type": "code",
      "execution_count": null,
      "metadata": {
        "id": "6GfeMrySH3I9"
      },
      "outputs": [],
      "source": [
        "# !sudo apt install python3-pip"
      ]
    }
  ],
  "metadata": {
    "colab": {
      "provenance": []
    },
    "gpuClass": "standard",
    "kernelspec": {
      "display_name": "Python 3",
      "name": "python3"
    },
    "language_info": {
      "codemirror_mode": {
        "name": "ipython",
        "version": 3
      },
      "file_extension": ".py",
      "mimetype": "text/x-python",
      "name": "python",
      "nbconvert_exporter": "python",
      "pygments_lexer": "ipython3",
      "version": "3.11.3"
    },
    "orig_nbformat": 4
  },
  "nbformat": 4,
  "nbformat_minor": 0
}
